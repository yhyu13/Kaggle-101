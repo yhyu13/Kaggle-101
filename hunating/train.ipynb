{
 "cells": [
  {
   "cell_type": "code",
   "execution_count": 1,
   "metadata": {
    "collapsed": false
   },
   "outputs": [],
   "source": [
    "import pandas as pd\n",
    "import numpy as np\n",
    "\n",
    "\n",
    "import matplotlib.pyplot as plt\n",
    "%matplotlib inline\n",
    "import matplotlib\n",
    "matplotlib.style.use('ggplot')\n",
    "\n",
    "from sklearn.preprocessing import StandardScaler, LabelEncoder\n",
    "from sklearn.model_selection import train_test_split\n",
    "from sklearn.model_selection import GridSearchCV\n",
    "from sklearn.model_selection import StratifiedKFold\n",
    "from sklearn.feature_selection import SelectFromModel"
   ]
  },
  {
   "cell_type": "code",
   "execution_count": 2,
   "metadata": {
    "collapsed": true
   },
   "outputs": [],
   "source": [
    "df_train = pd.read_csv('train.csv')\n",
    "df_train2 = df_train.copy()\n",
    "df_test = pd.read_csv('test.csv')\n",
    "df_test2 = df_test.copy()"
   ]
  },
  {
   "cell_type": "markdown",
   "metadata": {},
   "source": [
    "## EDA (forked Andrew Lukyanenko's visualization with some improvment)"
   ]
  },
  {
   "cell_type": "code",
   "execution_count": 3,
   "metadata": {
    "collapsed": true
   },
   "outputs": [],
   "source": [
    "import seaborn as sns\n",
    "sns.set_style('whitegrid')"
   ]
  },
  {
   "cell_type": "code",
   "execution_count": 4,
   "metadata": {
    "collapsed": false
   },
   "outputs": [
    {
     "data": {
      "text/plain": [
       "'train = df_train2\\nplt.subplot(1,4,1)\\ntrain.groupby(\\'type\\').mean()[\\'rotting_flesh\\'].plot(kind=\\'bar\\',figsize=(7,4), color=\\'r\\',yerr=train.groupby(\\'type\\').std()[\\'rotting_flesh\\'],title=\\'rotting_flesh\\')\\nplt.subplot(1,4,2,sharey=plt.subplot(1,4,1))\\ntrain.groupby(\\'type\\').mean()[\\'bone_length\\'].plot(kind=\\'bar\\',figsize=(7,4), color=\\'g\\',yerr=train.groupby(\\'type\\').std()[\\'bone_length\\'],title=\\'bone_length\\')\\nplt.subplot(1,4,3,sharey=plt.subplot(1,4,1))\\ntrain.groupby(\\'type\\').mean()[\\'hair_length\\'].plot(kind=\\'bar\\',figsize=(7,4), color=\\'y\\',yerr=train.groupby(\\'type\\').std()[\\'hair_length\\'],title=\\'hair_length\\')\\nplt.subplot(1,4,4,sharey=plt.subplot(1,4,1))\\ntrain.groupby(\\'type\\').mean()[\\'has_soul\\'].plot(kind=\\'bar\\',figsize=(7,4), color=\\'teal\\',yerr=train.groupby(\\'type\\').std()[\\'has_soul\\'],title=\\'has_soul\\')\\n\\nsns.factorplot(\"type\", col=\"color\", col_wrap=4, data=train, kind=\"count\", size=2.4, aspect=.8)\\n\\ncorr = df_train2.select_dtypes(include = [\\'float64\\', \\'int64\\']).iloc[:, 1:].corr()\\nplt.figure(figsize=(12, 12))\\n\\nsns.heatmap(corr, vmax=1, square=True)\\nsns.pairplot(train, hue=\\'type\\')\\n\\n#The graphs look much better with higher figsize.\\nfig, ax = plt.subplots(2, 2, figsize = (16, 12))\\nsns.pointplot(x=\"color\", y=\"rotting_flesh\", hue=\"type\", data=train, ax = ax[0, 0])\\nsns.pointplot(x=\"color\", y=\"bone_length\", hue=\"type\", data=train, ax = ax[0, 1])\\nsns.pointplot(x=\"color\", y=\"hair_length\", hue=\"type\", data=train, ax = ax[1, 0])\\nsns.pointplot(x=\"color\", y=\"has_soul\", hue=\"type\", data=train, ax = ax[1, 1])\\n'"
      ]
     },
     "execution_count": 4,
     "metadata": {},
     "output_type": "execute_result"
    }
   ],
   "source": [
    "'''train = df_train2\n",
    "plt.subplot(1,4,1)\n",
    "train.groupby('type').mean()['rotting_flesh'].plot(kind='bar',figsize=(7,4), color='r',yerr=train.groupby('type').std()['rotting_flesh'],title='rotting_flesh')\n",
    "plt.subplot(1,4,2,sharey=plt.subplot(1,4,1))\n",
    "train.groupby('type').mean()['bone_length'].plot(kind='bar',figsize=(7,4), color='g',yerr=train.groupby('type').std()['bone_length'],title='bone_length')\n",
    "plt.subplot(1,4,3,sharey=plt.subplot(1,4,1))\n",
    "train.groupby('type').mean()['hair_length'].plot(kind='bar',figsize=(7,4), color='y',yerr=train.groupby('type').std()['hair_length'],title='hair_length')\n",
    "plt.subplot(1,4,4,sharey=plt.subplot(1,4,1))\n",
    "train.groupby('type').mean()['has_soul'].plot(kind='bar',figsize=(7,4), color='teal',yerr=train.groupby('type').std()['has_soul'],title='has_soul')\n",
    "\n",
    "sns.factorplot(\"type\", col=\"color\", col_wrap=4, data=train, kind=\"count\", size=2.4, aspect=.8)\n",
    "\n",
    "corr = df_train2.select_dtypes(include = ['float64', 'int64']).iloc[:, 1:].corr()\n",
    "plt.figure(figsize=(12, 12))\n",
    "\n",
    "sns.heatmap(corr, vmax=1, square=True)\n",
    "sns.pairplot(train, hue='type')\n",
    "\n",
    "#The graphs look much better with higher figsize.\n",
    "fig, ax = plt.subplots(2, 2, figsize = (16, 12))\n",
    "sns.pointplot(x=\"color\", y=\"rotting_flesh\", hue=\"type\", data=train, ax = ax[0, 0])\n",
    "sns.pointplot(x=\"color\", y=\"bone_length\", hue=\"type\", data=train, ax = ax[0, 1])\n",
    "sns.pointplot(x=\"color\", y=\"hair_length\", hue=\"type\", data=train, ax = ax[1, 0])\n",
    "sns.pointplot(x=\"color\", y=\"has_soul\", hue=\"type\", data=train, ax = ax[1, 1])\n",
    "'''"
   ]
  },
  {
   "cell_type": "code",
   "execution_count": 5,
   "metadata": {
    "collapsed": false
   },
   "outputs": [
    {
     "data": {
      "text/plain": [
       "\"df_train['color'] = df_train['color'].map({'clear':'clear','white':'white','green':'rainbow','black':'rainbow','blue':'rainbow','blood':'rainbow'})\\ndf_test['color'] = df_test['color'].map({'clear':'clear','white':'white','green':'rainbow','black':'rainbow','blue':'rainbow','blood':'rainbow'})\""
      ]
     },
     "execution_count": 5,
     "metadata": {},
     "output_type": "execute_result"
    }
   ],
   "source": [
    "#This is the tricky part, just by looking at the graph above, you will find the total number of colors other than {clear,white} \n",
    "#is approximately equal to those numbers of these two colors. So I group them up into 'rainbow' color. Hope this improves.\n",
    "#Actually...it doesn't work well\n",
    "'''df_train['color'] = df_train['color'].map({'clear':'clear','white':'white','green':'rainbow','black':'rainbow','blue':'rainbow','blood':'rainbow'})\n",
    "df_test['color'] = df_test['color'].map({'clear':'clear','white':'white','green':'rainbow','black':'rainbow','blue':'rainbow','blood':'rainbow'})'''"
   ]
  },
  {
   "cell_type": "code",
   "execution_count": 6,
   "metadata": {
    "collapsed": false
   },
   "outputs": [],
   "source": [
    "color_label,type_label = LabelEncoder(),LabelEncoder()\n",
    "#color_label =  color_label.fit(df_train['color'])\n",
    "type_label = type_label.fit(df_train['type'])\n",
    "\n",
    "item = [('color',color_label),('type',type_label)]\n",
    "\n",
    "#df_train[item[0][0]] = item[0][1].transform(df_train[item[0][0]])\n",
    "df_train[item[1][0]] = item[1][1].transform(df_train[item[1][0]])\n",
    "\n",
    "#df_test[item[0][0]] = item[0][1].transform(df_test[item[0][0]])\n",
    "\n",
    "#dummy encoding colors\n",
    "df_train = df_train = pd.get_dummies(df_train,columns=['color'])\n",
    "df_test = df_test = pd.get_dummies(df_test,columns=['color'])\n",
    "\n",
    "#move 'type' to be the last column, which is my preference.(Don't be confused~)\n",
    "df_train_type = df_train['type']\n",
    "df_train = df_train.drop(['type'],axis=1)\n",
    "df_train['type'] = df_train_type"
   ]
  },
  {
   "cell_type": "code",
   "execution_count": 7,
   "metadata": {
    "collapsed": false
   },
   "outputs": [],
   "source": [
    "def new_feature(df):\n",
    "    #df.insert(5,'bone_hair_soul',df['bone_length']*df['hair_length']*df['has_soul'])\n",
    "    df.insert(5,'bone_hair',df['bone_length']*df['hair_length'])\n",
    "    #df.insert(6,'sin_bone',np.sin(df['bone_length']))\n",
    "    df.insert(6,'bone_soul',df['bone_length']*df['has_soul'])\n",
    "    #df.insert(7,'sin_soul',np.sin(df['has_soul']))\n",
    "    df.insert(7,'hair_soul',df['hair_length']*df['has_soul'])\n",
    "    #df.insert(8,'sin_hair',np.sin(df['hair_length']))\n",
    "    #df.insert(6,'hair_flesh',df['hair_length']*df['rotting_flesh'])\n",
    "    #df.insert(7,'soul_flesh',df['rotting_flesh']*df['has_soul'])\n",
    "    #df.insert(8,'bone_flesh',df['bone_length']*df['rotting_flesh'])\n",
    "    #df.insert(12,'bone_hari_soul_flesh',df['bone_length']*df['hair_length']*df['has_soul']*df['rotting_flesh'])\n",
    "    #df.insert(13,'bone_hair_flesh',df['bone_length']*df['hair_length']*df['rotting_flesh'])\n",
    "    #df.insert(14,'bone_soul_flesh',df['bone_length']*df['has_soul']*df['rotting_flesh'])\n",
    "    #df.insert(15,'hair_soul_flesh',df['hair_length']*df['has_soul']*df['rotting_flesh'])\n",
    "    \n",
    "    \n",
    "    \n",
    "new_feature(df_train)\n",
    "new_feature(df_test)"
   ]
  },
  {
   "cell_type": "code",
   "execution_count": 8,
   "metadata": {
    "collapsed": false
   },
   "outputs": [
    {
     "data": {
      "text/plain": [
       "\"train = df_train.select_dtypes(include = ['float64', 'int64']).iloc[:, 1:]\\n\\ncorr = train.corr()\\nsns.heatmap(corr, vmax=1, square=True)\\n\\ntrain['type'] = df_train_type\\nsns.pairplot(train, hue='type')\""
      ]
     },
     "execution_count": 8,
     "metadata": {},
     "output_type": "execute_result"
    }
   ],
   "source": [
    "'''train = df_train.select_dtypes(include = ['float64', 'int64']).iloc[:, 1:]\n",
    "\n",
    "corr = train.corr()\n",
    "sns.heatmap(corr, vmax=1, square=True)\n",
    "\n",
    "train['type'] = df_train_type\n",
    "sns.pairplot(train, hue='type')'''"
   ]
  },
  {
   "cell_type": "code",
   "execution_count": 9,
   "metadata": {
    "collapsed": false
   },
   "outputs": [
    {
     "data": {
      "text/plain": [
       "\"df_train = df_train.drop(['hair_length','bone_length','has_soul'],axis = 1)\\ndf_test = df_test.drop(['hair_length','bone_length','has_soul'],axis = 1)\""
      ]
     },
     "execution_count": 9,
     "metadata": {},
     "output_type": "execute_result"
    }
   ],
   "source": [
    "'''df_train = df_train.drop(['hair_length','bone_length','has_soul'],axis = 1)\n",
    "df_test = df_test.drop(['hair_length','bone_length','has_soul'],axis = 1)'''"
   ]
  },
  {
   "cell_type": "code",
   "execution_count": 10,
   "metadata": {
    "collapsed": false
   },
   "outputs": [
    {
     "data": {
      "text/plain": [
       "\"#unfortunately, there is one exception in that its 'rotting_flesh' is 0.0000, which is bad.\\ndf_test.loc[81,'rotting_flesh'] = 0.359289629561934 #mean value, somehow~\\n\\ndef new_feature(df):\\n    df.insert(5,'bone/flesh',df['bone_length']/df['rotting_flesh'])\\n    df.insert(6,'hair/flesh',df['hair_length']/df['rotting_flesh'])\\n    df.insert(7,'soul/flesh',df['has_soul']/df['rotting_flesh'])\\n    \\nnew_feature(df_train)\\nnew_feature(df_test)\""
      ]
     },
     "execution_count": 10,
     "metadata": {},
     "output_type": "execute_result"
    }
   ],
   "source": [
    "'''#unfortunately, there is one exception in that its 'rotting_flesh' is 0.0000, which is bad.\n",
    "df_test.loc[81,'rotting_flesh'] = 0.359289629561934 #mean value, somehow~\n",
    "\n",
    "def new_feature(df):\n",
    "    df.insert(5,'bone/flesh',df['bone_length']/df['rotting_flesh'])\n",
    "    df.insert(6,'hair/flesh',df['hair_length']/df['rotting_flesh'])\n",
    "    df.insert(7,'soul/flesh',df['has_soul']/df['rotting_flesh'])\n",
    "    \n",
    "new_feature(df_train)\n",
    "new_feature(df_test)'''"
   ]
  },
  {
   "cell_type": "code",
   "execution_count": 11,
   "metadata": {
    "collapsed": false
   },
   "outputs": [
    {
     "data": {
      "text/plain": [
       "<matplotlib.text.Text at 0xc69d910>"
      ]
     },
     "execution_count": 11,
     "metadata": {},
     "output_type": "execute_result"
    },
    {
     "data": {
      "image/png": "[encoded data removed]",
      "text/plain": [
       "<matplotlib.figure.Figure at 0xadb2c90>"
      ]
     },
     "metadata": {},
     "output_type": "display_data"
    }
   ],
   "source": [
    "plt.subplot(1,2,1)\n",
    "((df_train.mean()-df_test.mean()).drop(['id','type'])).plot(kind='bar');plt.axhline(0, color='r');plt.title('train/test-mean_diff')\n",
    "plt.subplot(1,2,2)\n",
    "((df_train.std()-df_test.std()).drop(['id','type'])).plot(kind='bar');plt.axhline(0, color='r');plt.title('train/test-std_diff')"
   ]
  },
  {
   "cell_type": "markdown",
   "metadata": {},
   "source": [
    "### figure above shows the train_set and the test_set don't differ much"
   ]
  },
  {
   "cell_type": "code",
   "execution_count": 12,
   "metadata": {
    "collapsed": true
   },
   "outputs": [],
   "source": [
    "#If let 'color = -1'(color alwasys locates in the second last column of df_train, this is my preference), so include color.\n",
    "#Otherwise, 'color = -4'(3 colors),or'-7'(6 colors) , so no color in our model.\n",
    "\n",
    "color=-1"
   ]
  },
  {
   "cell_type": "markdown",
   "metadata": {},
   "source": [
    "### **We've shown colors don't play a big role**"
   ]
  },
  {
   "cell_type": "code",
   "execution_count": 13,
   "metadata": {
    "collapsed": false
   },
   "outputs": [],
   "source": [
    "from sklearn.neural_network import MLPClassifier\n",
    "from sklearn.neighbors import KNeighborsClassifier\n",
    "from sklearn.svm import SVC, LinearSVC, NuSVC\n",
    "from sklearn.tree import DecisionTreeClassifier\n",
    "from sklearn.ensemble import RandomForestClassifier, AdaBoostClassifier, GradientBoostingClassifier\n",
    "from sklearn.naive_bayes import GaussianNB\n",
    "from sklearn.discriminant_analysis import LinearDiscriminantAnalysis, QuadraticDiscriminantAnalysis\n",
    "from sklearn.ensemble import VotingClassifier\n",
    "\n",
    "from sklearn.metrics import accuracy_score, log_loss"
   ]
  },
  {
   "cell_type": "markdown",
   "metadata": {},
   "source": [
    "## My training_3:with test_set cheat"
   ]
  },
  {
   "cell_type": "code",
   "execution_count": 40,
   "metadata": {
    "collapsed": true
   },
   "outputs": [],
   "source": [
    "nn = pd.read_csv('submission_me3.csv')\n",
    "df_test['type'] = type_label.transform(nn['type'])\n",
    "data_test = df_test.values"
   ]
  },
  {
   "cell_type": "code",
   "execution_count": 41,
   "metadata": {
    "collapsed": true
   },
   "outputs": [],
   "source": [
    "color = -1 # better to have no color"
   ]
  },
  {
   "cell_type": "code",
   "execution_count": 42,
   "metadata": {
    "collapsed": false
   },
   "outputs": [],
   "source": [
    "data = df_train.values\n",
    "data_test = np.random.permutation(data_test)\n",
    "        \n",
    "data_new = np.vstack((data,data_test[:,:]))\n",
    "data_new = np.random.permutation(data_new)\n",
    "    \n",
    "x_train = data_new[:,1:color]\n",
    "y_train = data_new[:,-1]\n",
    "#x_train = data[:,1:color]\n",
    "#y_train = data[:,-1]\n",
    "    \n",
    "xtrain, xtest, ytrain, ytest = train_test_split(x_train, y_train, test_size=0.2)\n",
    "ytest = [int(x) for x in ytest]\n",
    "\n",
    "x_test = df_test.values[:,1:color]"
   ]
  },
  {
   "cell_type": "code",
   "execution_count": 43,
   "metadata": {
    "collapsed": false
   },
   "outputs": [
    {
     "name": "stdout",
     "output_type": "stream",
     "text": [
      "==============================\n",
      "MLPClassifier\n",
      "****Results****\n",
      "Accuracy: 87.7778%\n",
      "Log Loss: 0.3339615160778899\n",
      "==============================\n",
      "KNeighborsClassifier\n",
      "****Results****\n",
      "Accuracy: 78.8889%\n",
      "Log Loss: 2.193335016693276\n",
      "==============================\n",
      "NuSVC\n",
      "****Results****\n",
      "Accuracy: 88.3333%\n",
      "Log Loss: 0.34046237556056336\n",
      "==============================\n",
      "RandomForestClassifier\n",
      "****Results****\n",
      "Accuracy: 86.1111%\n",
      "Log Loss: 0.8846992538417495\n",
      "==============================\n",
      "AdaBoostClassifier\n",
      "****Results****\n",
      "Accuracy: 76.6667%\n",
      "Log Loss: 0.7544369530964748\n",
      "==============================\n",
      "GradientBoostingClassifier\n",
      "****Results****\n",
      "Accuracy: 82.2222%\n",
      "Log Loss: 0.3775972912175959\n",
      "==============================\n",
      "GaussianNB\n",
      "****Results****\n",
      "Accuracy: 82.7778%\n",
      "Log Loss: 0.6064528173558653\n",
      "==============================\n",
      "LinearDiscriminantAnalysis\n",
      "****Results****\n",
      "Accuracy: 83.3333%\n",
      "Log Loss: 0.4044178716355138\n",
      "==============================\n",
      "QuadraticDiscriminantAnalysis\n",
      "****Results****\n",
      "Accuracy: 74.4444%\n",
      "Log Loss: 1.13118500192029\n",
      "==============================\n"
     ]
    },
    {
     "name": "stderr",
     "output_type": "stream",
     "text": [
      "C:\\Users\\YuHang\\AppData\\Roaming\\Python\\Python35\\site-packages\\sklearn\\discriminant_analysis.py:389: UserWarning: Variables are collinear.\n",
      "  warnings.warn(\"Variables are collinear.\")\n",
      "C:\\Users\\YuHang\\AppData\\Roaming\\Python\\Python35\\site-packages\\sklearn\\discriminant_analysis.py:694: UserWarning: Variables are collinear\n",
      "  warnings.warn(\"Variables are collinear\")\n"
     ]
    }
   ],
   "source": [
    "classifiers = [\n",
    "    MLPClassifier(hidden_layer_sizes = (8,),solver='lbfgs'),\n",
    "    KNeighborsClassifier(3),\n",
    "    NuSVC(probability=True),\n",
    "    RandomForestClassifier(),\n",
    "    AdaBoostClassifier(),\n",
    "    GradientBoostingClassifier(),\n",
    "    GaussianNB(),\n",
    "    LinearDiscriminantAnalysis(),\n",
    "    QuadraticDiscriminantAnalysis()]\n",
    "\n",
    "# Logging for Visual Comparison\n",
    "log_cols=[\"Classifier\", \"Accuracy\", \"Log Loss\"]\n",
    "log = pd.DataFrame(columns=log_cols)\n",
    "\n",
    "for clf in classifiers:\n",
    "    clf.fit(xtrain, ytrain)\n",
    "    name = clf.__class__.__name__\n",
    "    \n",
    "    print(\"=\"*30)\n",
    "    print(name)\n",
    "    \n",
    "    print('****Results****')\n",
    "    train_predictions = clf.predict(xtest)\n",
    "    acc = accuracy_score(ytest, train_predictions)\n",
    "    print(\"Accuracy: {:.4%}\".format(acc))\n",
    "    \n",
    "    train_predictions = clf.predict_proba(xtest)\n",
    "    ll = log_loss(ytest, train_predictions)\n",
    "    print(\"Log Loss: {}\".format(ll))\n",
    "    \n",
    "    log_entry = pd.DataFrame([[name, acc*100, ll]], columns=log_cols)\n",
    "    log = log.append(log_entry)\n",
    "    \n",
    "print(\"=\"*30)"
   ]
  },
  {
   "cell_type": "code",
   "execution_count": 44,
   "metadata": {
    "collapsed": false
   },
   "outputs": [],
   "source": [
    "j = [str(j) for j in range(len(classifiers))]\n",
    "est = zip(j,classifiers)"
   ]
  },
  {
   "cell_type": "code",
   "execution_count": 45,
   "metadata": {
    "collapsed": false
   },
   "outputs": [
    {
     "name": "stdout",
     "output_type": "stream",
     "text": [
      "Validation accuracy:  0.833333333333\n"
     ]
    },
    {
     "name": "stderr",
     "output_type": "stream",
     "text": [
      "C:\\Users\\YuHang\\AppData\\Roaming\\Python\\Python35\\site-packages\\sklearn\\discriminant_analysis.py:389: UserWarning: Variables are collinear.\n",
      "  warnings.warn(\"Variables are collinear.\")\n",
      "C:\\Users\\YuHang\\AppData\\Roaming\\Python\\Python35\\site-packages\\sklearn\\discriminant_analysis.py:694: UserWarning: Variables are collinear\n",
      "  warnings.warn(\"Variables are collinear\")\n"
     ]
    }
   ],
   "source": [
    "clf = VotingClassifier(estimators=list(est),voting='soft')\n",
    "\n",
    "clf.fit(xtrain,ytrain)\n",
    "    #clf.fit(x_train,y_train)\n",
    "    \n",
    "y_val_l = clf.predict_proba(xtest)\n",
    "cv_score = sum(pd.DataFrame(y_val_l, columns=type_label.classes_).idxmax(axis=1).values\n",
    "                                   == type_label.inverse_transform(ytest))/len(ytest)\n",
    "print(\"Validation accuracy: \", cv_score)\n",
    "\n",
    "pred = clf.predict(x_test)\n",
    "\n",
    "pred = [int(x) for x in pred]\n",
    "\n",
    "sub = pd.read_csv('sample_submission.csv')\n",
    "type_pred = type_label.inverse_transform(pred)\n",
    "sub['type'] = type_pred\n",
    "\n",
    "sub.to_csv('submission_me2.csv',index=False)"
   ]
  },
  {
   "cell_type": "code",
   "execution_count": 46,
   "metadata": {
    "collapsed": false,
    "scrolled": true
   },
   "outputs": [
    {
     "data": {
      "text/html": [
       "<div>\n",
       "<table border=\"1\" class=\"dataframe\">\n",
       "  <thead>\n",
       "    <tr style=\"text-align: right;\">\n",
       "      <th></th>\n",
       "      <th></th>\n",
       "      <th>from</th>\n",
       "      <th>to</th>\n",
       "    </tr>\n",
       "    <tr>\n",
       "      <th>id</th>\n",
       "      <th>col</th>\n",
       "      <th></th>\n",
       "      <th></th>\n",
       "    </tr>\n",
       "  </thead>\n",
       "  <tbody>\n",
       "    <tr>\n",
       "      <th>3</th>\n",
       "      <th>type</th>\n",
       "      <td>Ghost</td>\n",
       "      <td>Goblin</td>\n",
       "    </tr>\n",
       "    <tr>\n",
       "      <th>23</th>\n",
       "      <th>type</th>\n",
       "      <td>Ghost</td>\n",
       "      <td>Goblin</td>\n",
       "    </tr>\n",
       "    <tr>\n",
       "      <th>24</th>\n",
       "      <th>type</th>\n",
       "      <td>Ghoul</td>\n",
       "      <td>Goblin</td>\n",
       "    </tr>\n",
       "    <tr>\n",
       "      <th>36</th>\n",
       "      <th>type</th>\n",
       "      <td>Ghost</td>\n",
       "      <td>Goblin</td>\n",
       "    </tr>\n",
       "    <tr>\n",
       "      <th>51</th>\n",
       "      <th>type</th>\n",
       "      <td>Goblin</td>\n",
       "      <td>Ghoul</td>\n",
       "    </tr>\n",
       "    <tr>\n",
       "      <th>64</th>\n",
       "      <th>type</th>\n",
       "      <td>Goblin</td>\n",
       "      <td>Ghoul</td>\n",
       "    </tr>\n",
       "    <tr>\n",
       "      <th>70</th>\n",
       "      <th>type</th>\n",
       "      <td>Ghost</td>\n",
       "      <td>Goblin</td>\n",
       "    </tr>\n",
       "    <tr>\n",
       "      <th>96</th>\n",
       "      <th>type</th>\n",
       "      <td>Ghost</td>\n",
       "      <td>Goblin</td>\n",
       "    </tr>\n",
       "    <tr>\n",
       "      <th>102</th>\n",
       "      <th>type</th>\n",
       "      <td>Ghoul</td>\n",
       "      <td>Goblin</td>\n",
       "    </tr>\n",
       "    <tr>\n",
       "      <th>105</th>\n",
       "      <th>type</th>\n",
       "      <td>Goblin</td>\n",
       "      <td>Ghoul</td>\n",
       "    </tr>\n",
       "    <tr>\n",
       "      <th>107</th>\n",
       "      <th>type</th>\n",
       "      <td>Ghost</td>\n",
       "      <td>Goblin</td>\n",
       "    </tr>\n",
       "    <tr>\n",
       "      <th>120</th>\n",
       "      <th>type</th>\n",
       "      <td>Ghoul</td>\n",
       "      <td>Goblin</td>\n",
       "    </tr>\n",
       "    <tr>\n",
       "      <th>135</th>\n",
       "      <th>type</th>\n",
       "      <td>Ghoul</td>\n",
       "      <td>Goblin</td>\n",
       "    </tr>\n",
       "    <tr>\n",
       "      <th>150</th>\n",
       "      <th>type</th>\n",
       "      <td>Ghoul</td>\n",
       "      <td>Goblin</td>\n",
       "    </tr>\n",
       "    <tr>\n",
       "      <th>178</th>\n",
       "      <th>type</th>\n",
       "      <td>Goblin</td>\n",
       "      <td>Ghoul</td>\n",
       "    </tr>\n",
       "    <tr>\n",
       "      <th>195</th>\n",
       "      <th>type</th>\n",
       "      <td>Ghoul</td>\n",
       "      <td>Goblin</td>\n",
       "    </tr>\n",
       "    <tr>\n",
       "      <th>238</th>\n",
       "      <th>type</th>\n",
       "      <td>Ghoul</td>\n",
       "      <td>Goblin</td>\n",
       "    </tr>\n",
       "    <tr>\n",
       "      <th>239</th>\n",
       "      <th>type</th>\n",
       "      <td>Ghoul</td>\n",
       "      <td>Goblin</td>\n",
       "    </tr>\n",
       "    <tr>\n",
       "      <th>268</th>\n",
       "      <th>type</th>\n",
       "      <td>Ghost</td>\n",
       "      <td>Goblin</td>\n",
       "    </tr>\n",
       "    <tr>\n",
       "      <th>292</th>\n",
       "      <th>type</th>\n",
       "      <td>Goblin</td>\n",
       "      <td>Ghoul</td>\n",
       "    </tr>\n",
       "    <tr>\n",
       "      <th>293</th>\n",
       "      <th>type</th>\n",
       "      <td>Goblin</td>\n",
       "      <td>Ghoul</td>\n",
       "    </tr>\n",
       "    <tr>\n",
       "      <th>306</th>\n",
       "      <th>type</th>\n",
       "      <td>Ghoul</td>\n",
       "      <td>Goblin</td>\n",
       "    </tr>\n",
       "    <tr>\n",
       "      <th>309</th>\n",
       "      <th>type</th>\n",
       "      <td>Ghoul</td>\n",
       "      <td>Goblin</td>\n",
       "    </tr>\n",
       "    <tr>\n",
       "      <th>316</th>\n",
       "      <th>type</th>\n",
       "      <td>Goblin</td>\n",
       "      <td>Ghost</td>\n",
       "    </tr>\n",
       "    <tr>\n",
       "      <th>356</th>\n",
       "      <th>type</th>\n",
       "      <td>Ghoul</td>\n",
       "      <td>Goblin</td>\n",
       "    </tr>\n",
       "    <tr>\n",
       "      <th>449</th>\n",
       "      <th>type</th>\n",
       "      <td>Goblin</td>\n",
       "      <td>Ghoul</td>\n",
       "    </tr>\n",
       "    <tr>\n",
       "      <th>503</th>\n",
       "      <th>type</th>\n",
       "      <td>Ghoul</td>\n",
       "      <td>Goblin</td>\n",
       "    </tr>\n",
       "    <tr>\n",
       "      <th>510</th>\n",
       "      <th>type</th>\n",
       "      <td>Ghoul</td>\n",
       "      <td>Goblin</td>\n",
       "    </tr>\n",
       "  </tbody>\n",
       "</table>\n",
       "</div>"
      ],
      "text/plain": [
       "            from      to\n",
       "id  col                 \n",
       "3   type   Ghost  Goblin\n",
       "23  type   Ghost  Goblin\n",
       "24  type   Ghoul  Goblin\n",
       "36  type   Ghost  Goblin\n",
       "51  type  Goblin   Ghoul\n",
       "64  type  Goblin   Ghoul\n",
       "70  type   Ghost  Goblin\n",
       "96  type   Ghost  Goblin\n",
       "102 type   Ghoul  Goblin\n",
       "105 type  Goblin   Ghoul\n",
       "107 type   Ghost  Goblin\n",
       "120 type   Ghoul  Goblin\n",
       "135 type   Ghoul  Goblin\n",
       "150 type   Ghoul  Goblin\n",
       "178 type  Goblin   Ghoul\n",
       "195 type   Ghoul  Goblin\n",
       "238 type   Ghoul  Goblin\n",
       "239 type   Ghoul  Goblin\n",
       "268 type   Ghost  Goblin\n",
       "292 type  Goblin   Ghoul\n",
       "293 type  Goblin   Ghoul\n",
       "306 type   Ghoul  Goblin\n",
       "309 type   Ghoul  Goblin\n",
       "316 type  Goblin   Ghost\n",
       "356 type   Ghoul  Goblin\n",
       "449 type  Goblin   Ghoul\n",
       "503 type   Ghoul  Goblin\n",
       "510 type   Ghoul  Goblin"
      ]
     },
     "execution_count": 46,
     "metadata": {},
     "output_type": "execute_result"
    }
   ],
   "source": [
    "df1 = pd.read_csv('submission_me3.csv')\n",
    "df2 = pd.read_csv('submission_me2.csv')\n",
    "\n",
    "ne = (df1 != df2).any(1)\n",
    "ne_stacked = (df1 != df2).stack()\n",
    "changed = ne_stacked[ne_stacked]\n",
    "changed.index.names = ['id', 'col']\n",
    "difference_locations = np.where(df1 != df2)\n",
    "changed_from = df1.values[difference_locations]\n",
    "changed_to = df2.values[difference_locations]\n",
    "pd.DataFrame({'from': changed_from, 'to': changed_to}, index=changed.index)"
   ]
  },
  {
   "cell_type": "code",
   "execution_count": 49,
   "metadata": {
    "collapsed": false
   },
   "outputs": [],
   "source": [
    "for i in difference_locations[0]:\n",
    "    a = df1.loc[i,'type']\n",
    "    b = df2.loc[i,'type']\n",
    "    #print(a,b)\n",
    "    if b == 'Goblin' and i not in [76,150]:\n",
    "        df1.set_value(i,'type',b)"
   ]
  },
  {
   "cell_type": "code",
   "execution_count": 50,
   "metadata": {
    "collapsed": false
   },
   "outputs": [
    {
     "name": "stdout",
     "output_type": "stream",
     "text": [
      "id      168\n",
      "type    168\n",
      "dtype: int64\n",
      "id      187\n",
      "type    187\n",
      "dtype: int64\n",
      "id      174\n",
      "type    174\n",
      "dtype: int64\n"
     ]
    }
   ],
   "source": [
    "print(df1[df1['type'] == 'Goblin'].count())\n",
    "print(df1[df1['type'] == 'Ghost'].count())\n",
    "print(df1[df1['type'] == 'Ghoul'].count())"
   ]
  },
  {
   "cell_type": "code",
   "execution_count": 48,
   "metadata": {
    "collapsed": false
   },
   "outputs": [
    {
     "name": "stdout",
     "output_type": "stream",
     "text": [
      "id      161\n",
      "type    161\n",
      "dtype: int64\n",
      "id      188\n",
      "type    188\n",
      "dtype: int64\n",
      "id      180\n",
      "type    180\n",
      "dtype: int64\n"
     ]
    }
   ],
   "source": [
    "print(df2[df2['type'] == 'Goblin'].count())\n",
    "print(df2[df2['type'] == 'Ghost'].count())\n",
    "print(df2[df2['type'] == 'Ghoul'].count())"
   ]
  },
  {
   "cell_type": "code",
   "execution_count": 52,
   "metadata": {
    "collapsed": true
   },
   "outputs": [],
   "source": [
    "df1.to_csv('submission_me5.csv',index=False)"
   ]
  },
  {
   "cell_type": "code",
   "execution_count": 25,
   "metadata": {
    "collapsed": false
   },
   "outputs": [],
   "source": [
    "pred = clf.predict_proba(x_test)"
   ]
  },
  {
   "cell_type": "code",
   "execution_count": 26,
   "metadata": {
    "collapsed": false
   },
   "outputs": [
    {
     "data": {
      "text/plain": [
       "array([[ 0.18048432,  0.35543651,  0.46407917],\n",
       "       [ 0.01006633,  0.59556553,  0.39436815],\n",
       "       [ 0.01802437,  0.45117379,  0.53080184],\n",
       "       [ 0.35866201,  0.12023403,  0.52110396],\n",
       "       [ 0.00393235,  0.74079017,  0.25527748],\n",
       "       [ 0.2565086 ,  0.182805  ,  0.5606864 ],\n",
       "       [ 0.00731027,  0.42481907,  0.56787066],\n",
       "       [ 0.4063553 ,  0.04910496,  0.54453973],\n",
       "       [ 0.01161332,  0.56219448,  0.42619221],\n",
       "       [ 0.01231487,  0.40775205,  0.57993308],\n",
       "       [ 0.00537375,  0.63523275,  0.3593935 ],\n",
       "       [ 0.00562843,  0.48173419,  0.51263738],\n",
       "       [ 0.24099794,  0.14246477,  0.61653729],\n",
       "       [ 0.01862722,  0.45347277,  0.52790001],\n",
       "       [ 0.01631828,  0.57760301,  0.40607871],\n",
       "       [ 0.02997167,  0.2790919 ,  0.69093643],\n",
       "       [ 0.01092973,  0.4582162 ,  0.53085407],\n",
       "       [ 0.00616729,  0.49841731,  0.4954154 ],\n",
       "       [ 0.00927704,  0.7233912 ,  0.26733176],\n",
       "       [ 0.06228629,  0.30580044,  0.63191327],\n",
       "       [ 0.38689838,  0.08555826,  0.52754336],\n",
       "       [ 0.52544057,  0.02807752,  0.44648191],\n",
       "       [ 0.03687244,  0.41657989,  0.54654767],\n",
       "       [ 0.047059  ,  0.34912088,  0.60382013],\n",
       "       [ 0.3159492 ,  0.1215226 ,  0.56252821],\n",
       "       [ 0.11813974,  0.42242455,  0.45943571],\n",
       "       [ 0.03765239,  0.47408695,  0.48826066],\n",
       "       [ 0.03345088,  0.54318866,  0.42336045],\n",
       "       [ 0.01024986,  0.53966903,  0.45008111],\n",
       "       [ 0.33393725,  0.10008959,  0.56597316],\n",
       "       [ 0.0033058 ,  0.59089007,  0.40580413],\n",
       "       [ 0.00939629,  0.49182127,  0.49878244],\n",
       "       [ 0.30489383,  0.40892388,  0.28618229],\n",
       "       [ 0.00953012,  0.48380595,  0.50666393],\n",
       "       [ 0.04062642,  0.33384482,  0.62552876],\n",
       "       [ 0.0459208 ,  0.33645392,  0.61762527],\n",
       "       [ 0.02642288,  0.51797623,  0.4556009 ],\n",
       "       [ 0.01531939,  0.41351836,  0.57116225],\n",
       "       [ 0.01656093,  0.28498554,  0.69845353],\n",
       "       [ 0.01814718,  0.48541776,  0.49643506],\n",
       "       [ 0.01633462,  0.33699414,  0.64667124],\n",
       "       [ 0.00935193,  0.48689679,  0.50375128],\n",
       "       [ 0.36965968,  0.0815522 ,  0.54878812],\n",
       "       [ 0.00783021,  0.60135999,  0.3908098 ],\n",
       "       [ 0.21575632,  0.1611933 ,  0.62305038],\n",
       "       [ 0.35353118,  0.18554036,  0.46092846],\n",
       "       [ 0.0163454 ,  0.51485377,  0.46880083],\n",
       "       [ 0.04104687,  0.4913677 ,  0.46758543],\n",
       "       [ 0.06099538,  0.3876142 ,  0.55139042],\n",
       "       [ 0.02426199,  0.43319564,  0.54254238],\n",
       "       [ 0.01804515,  0.71685408,  0.26510077],\n",
       "       [ 0.01359286,  0.43764874,  0.5487584 ],\n",
       "       [ 0.0181169 ,  0.44356104,  0.53832207],\n",
       "       [ 0.01130916,  0.49418708,  0.49450376],\n",
       "       [ 0.03932547,  0.32670453,  0.63397   ],\n",
       "       [ 0.00800521,  0.37489379,  0.617101  ],\n",
       "       [ 0.02710477,  0.33286422,  0.640031  ],\n",
       "       [ 0.01140838,  0.59835714,  0.39023449]])"
      ]
     },
     "execution_count": 26,
     "metadata": {},
     "output_type": "execute_result"
    }
   ],
   "source": [
    "pred[difference_locations[0]]"
   ]
  },
  {
   "cell_type": "code",
   "execution_count": 27,
   "metadata": {
    "collapsed": false
   },
   "outputs": [
    {
     "data": {
      "text/plain": [
       "array([2, 1, 2, 2, 1, 2, 2, 2, 1, 2, 1, 2, 2, 2, 1, 2, 2, 1, 1, 2, 2, 0, 2,\n",
       "       2, 2, 2, 2, 1, 1, 2, 1, 2, 1, 2, 2, 2, 1, 2, 2, 2, 2, 2, 2, 1, 2, 2,\n",
       "       1, 1, 2, 2, 1, 2, 2, 2, 2, 2, 2, 1], dtype=int32)"
      ]
     },
     "execution_count": 27,
     "metadata": {},
     "output_type": "execute_result"
    }
   ],
   "source": [
    "np.argmax(pred[difference_locations[0]], axis=1)"
   ]
  },
  {
   "cell_type": "code",
   "execution_count": null,
   "metadata": {
    "collapsed": true
   },
   "outputs": [],
   "source": []
  },
  {
   "cell_type": "code",
   "execution_count": null,
   "metadata": {
    "collapsed": true
   },
   "outputs": [],
   "source": []
  }
 ],
 "metadata": {
  "kernelspec": {
   "display_name": "Python 3",
   "language": "python",
   "name": "python3"
  },
  "language_info": {
   "codemirror_mode": {
    "name": "ipython",
    "version": 3
   },
   "file_extension": ".py",
   "mimetype": "text/x-python",
   "name": "python",
   "nbconvert_exporter": "python",
   "pygments_lexer": "ipython3",
   "version": "3.5.2"
  }
 },
 "nbformat": 4,
 "nbformat_minor": 1
}
