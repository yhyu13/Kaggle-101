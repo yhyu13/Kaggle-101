{
 "cells": [
  {
   "cell_type": "markdown",
   "metadata": {},
   "source": [
    "# leaf classification problem\n",
    "\n",
    "### The training set contains 99 species and 10 samples for each"
   ]
  },
  {
   "cell_type": "code",
   "execution_count": 1,
   "metadata": {
    "collapsed": true
   },
   "outputs": [],
   "source": [
    "import pandas as pd\n",
    "import numpy as np\n",
    "import matplotlib.pyplot as plt\n",
    "%matplotlib inline\n",
    "\n",
    "from sklearn.preprocessing import StandardScaler, LabelEncoder\n",
    "from sklearn.model_selection import train_test_split\n",
    "from sklearn.model_selection import GridSearchCV\n",
    "from sklearn.model_selection import StratifiedKFold\n",
    "from sklearn.feature_selection import SelectFromModel\n",
    "\n",
    "from sklearn.neural_network import MLPClassifier\n",
    "from sklearn.neighbors import KNeighborsClassifier\n",
    "from sklearn.svm import SVC, LinearSVC, NuSVC\n",
    "from sklearn.tree import DecisionTreeClassifier\n",
    "from sklearn.ensemble import RandomForestClassifier, AdaBoostClassifier, GradientBoostingClassifier\n",
    "from sklearn.naive_bayes import GaussianNB\n",
    "from sklearn.discriminant_analysis import LinearDiscriminantAnalysis, QuadraticDiscriminantAnalysis\n",
    "from sklearn.ensemble import VotingClassifier\n",
    "\n",
    "from sklearn.metrics import accuracy_score, log_loss"
   ]
  },
  {
   "cell_type": "code",
   "execution_count": 13,
   "metadata": {
    "collapsed": false
   },
   "outputs": [
    {
     "name": "stdout",
     "output_type": "stream",
     "text": [
      "<class 'pandas.core.frame.DataFrame'>\n",
      "RangeIndex: 990 entries, 0 to 989\n",
      "Columns: 194 entries, id to texture64\n",
      "dtypes: float64(192), int64(1), object(1)\n",
      "memory usage: 1.5+ MB\n"
     ]
    }
   ],
   "source": [
    "df = pd.read_csv('train_sort.csv')\n",
    "df.info()\n",
    "df_copy = df.copy()"
   ]
  },
  {
   "cell_type": "code",
   "execution_count": 3,
   "metadata": {
    "collapsed": false
   },
   "outputs": [],
   "source": [
    "type_label = LabelEncoder().fit(df['species'])\n",
    "y = type_label.transform(df['species'])\n",
    "\n",
    "df1 = df.drop(['species','id'],axis = 1)\n",
    "X = df1.values"
   ]
  },
  {
   "cell_type": "code",
   "execution_count": 4,
   "metadata": {
    "collapsed": false
   },
   "outputs": [],
   "source": [
    "scaler = StandardScaler().fit(X)\n",
    "X = scaler.transform(X)"
   ]
  },
  {
   "cell_type": "code",
   "execution_count": 31,
   "metadata": {
    "collapsed": false
   },
   "outputs": [],
   "source": [
    "xtrain, xtest, ytrain, ytest = train_test_split(X, y, test_size=0.2)"
   ]
  },
  {
   "cell_type": "code",
   "execution_count": 32,
   "metadata": {
    "collapsed": false
   },
   "outputs": [
    {
     "name": "stdout",
     "output_type": "stream",
     "text": [
      "==============================\n",
      "MLPClassifier\n",
      "****Results****\n",
      "Accuracy: 95.9596%\n",
      "==============================\n",
      "KNeighborsClassifier\n",
      "****Results****\n",
      "Accuracy: 95.9596%\n",
      "==============================\n",
      "NuSVC\n",
      "****Results****\n",
      "Accuracy: 98.4848%\n",
      "==============================\n",
      "LinearDiscriminantAnalysis\n",
      "****Results****\n",
      "Accuracy: 96.4646%\n",
      "==============================\n"
     ]
    },
    {
     "name": "stderr",
     "output_type": "stream",
     "text": [
      "C:\\Users\\YuHang\\AppData\\Roaming\\Python\\Python35\\site-packages\\sklearn\\discriminant_analysis.py:389: UserWarning: Variables are collinear.\n",
      "  warnings.warn(\"Variables are collinear.\")\n",
      "C:\\Users\\YuHang\\AppData\\Roaming\\Python\\Python35\\site-packages\\sklearn\\discriminant_analysis.py:519: RuntimeWarning: overflow encountered in exp\n",
      "  np.exp(prob, prob)\n"
     ]
    }
   ],
   "source": [
    "classifiers = [\n",
    "    MLPClassifier(hidden_layer_sizes = (150,),solver='lbfgs',activation='logistic'),\n",
    "    KNeighborsClassifier(1),\n",
    "    NuSVC(probability=True),\n",
    "    #RandomForestClassifier(),\n",
    "    #AdaBoostClassifier(),\n",
    "    #GradientBoostingClassifier(),\n",
    "    #GaussianNB(),\n",
    "    LinearDiscriminantAnalysis(),\n",
    "    #QuadraticDiscriminantAnalysis()\n",
    "]\n",
    "\n",
    "# Logging for Visual Comparison\n",
    "log_cols=[\"Classifier\", \"Accuracy\", \"Log Loss\"]\n",
    "log = pd.DataFrame(columns=log_cols)\n",
    "\n",
    "for clf in classifiers:\n",
    "    clf.fit(xtrain, ytrain)\n",
    "    name = clf.__class__.__name__\n",
    "    \n",
    "    print(\"=\"*30)\n",
    "    print(name)\n",
    "    \n",
    "    print('****Results****')\n",
    "    train_predictions = clf.predict(xtest)\n",
    "    acc = accuracy_score(ytest, train_predictions)\n",
    "    print(\"Accuracy: {:.4%}\".format(acc))\n",
    "    \n",
    "    train_predictions = clf.predict_proba(xtest)\n",
    "    #ll = log_loss(ytest, train_predictions)\n",
    "    #print(\"Log Loss: {}\".format(ll))\n",
    "    \n",
    "    #log_entry = pd.DataFrame([[name, acc*100, ll]], columns=log_cols)\n",
    "    #log = log.append(log_entry)\n",
    "    \n",
    "print(\"=\"*30)"
   ]
  },
  {
   "cell_type": "code",
   "execution_count": 33,
   "metadata": {
    "collapsed": false
   },
   "outputs": [
    {
     "name": "stdout",
     "output_type": "stream",
     "text": [
      "Validation accuracy:  0.984848484848\n"
     ]
    },
    {
     "name": "stderr",
     "output_type": "stream",
     "text": [
      "C:\\Users\\YuHang\\AppData\\Roaming\\Python\\Python35\\site-packages\\sklearn\\discriminant_analysis.py:389: UserWarning: Variables are collinear.\n",
      "  warnings.warn(\"Variables are collinear.\")\n",
      "C:\\Users\\YuHang\\AppData\\Roaming\\Python\\Python35\\site-packages\\sklearn\\discriminant_analysis.py:519: RuntimeWarning: overflow encountered in exp\n",
      "  np.exp(prob, prob)\n"
     ]
    }
   ],
   "source": [
    "classifiers = [\n",
    "    MLPClassifier(hidden_layer_sizes = (150,),solver='lbfgs'),\n",
    "    KNeighborsClassifier(1),\n",
    "    NuSVC(probability=True),\n",
    "    RandomForestClassifier(),\n",
    "    #AdaBoostClassifier(),\n",
    "    #GradientBoostingClassifier(),\n",
    "    #GaussianNB(),\n",
    "    LinearDiscriminantAnalysis(),\n",
    "    #QuadraticDiscriminantAnalysis()\n",
    "]\n",
    "\n",
    "j = [str(j) for j in range(len(classifiers))]\n",
    "est = zip(j,classifiers)\n",
    "\n",
    "clf = VotingClassifier(estimators=list(est),voting='soft')\n",
    "\n",
    "clf.fit(xtrain,ytrain)\n",
    "    #clf.fit(x_train,y_train)\n",
    "    \n",
    "y_val_l = clf.predict_proba(xtest)\n",
    "cv_score = sum(pd.DataFrame(y_val_l, columns=type_label.classes_).idxmax(axis=1).values\n",
    "                                   == type_label.inverse_transform(ytest))/len(ytest)\n",
    "print(\"Validation accuracy: \", cv_score)"
   ]
  },
  {
   "cell_type": "markdown",
   "metadata": {},
   "source": [
    "## Let's go predict, shall we?"
   ]
  },
  {
   "cell_type": "code",
   "execution_count": 34,
   "metadata": {
    "collapsed": true
   },
   "outputs": [],
   "source": [
    "test_df = pd.read_csv('test.csv')\n",
    "index = test_df.pop('id')\n",
    "test_data = test_df.values\n",
    "\n",
    "test_X = test_data\n",
    "test_X = scaler.transform(test_X)"
   ]
  },
  {
   "cell_type": "code",
   "execution_count": 44,
   "metadata": {
    "collapsed": false
   },
   "outputs": [
    {
     "name": "stderr",
     "output_type": "stream",
     "text": [
      "C:\\Users\\YuHang\\AppData\\Roaming\\Python\\Python35\\site-packages\\sklearn\\discriminant_analysis.py:519: RuntimeWarning: overflow encountered in exp\n",
      "  np.exp(prob, prob)\n"
     ]
    },
    {
     "data": {
      "text/plain": [
       "array([[ 0.00128417,  0.00151247,  0.00116013, ...,  0.00109032,\n",
       "         0.00300038,  0.00173114],\n",
       "       [ 0.00116789,  0.00122341,  0.00256458, ...,  0.02399054,\n",
       "         0.00134046,  0.00204386],\n",
       "       [ 0.00194943,  0.60111544,  0.00142099, ...,  0.00121909,\n",
       "         0.0016016 ,  0.00458772],\n",
       "       ..., \n",
       "       [ 0.00233964,  0.00194029,  0.00140562, ...,  0.00140563,\n",
       "         0.00185203,  0.00371039],\n",
       "       [ 0.00126721,  0.00153896,  0.00211605, ...,  0.02214102,\n",
       "         0.00205882,  0.00219123],\n",
       "       [ 0.00094733,  0.00143698,  0.00232145, ...,  0.00195149,\n",
       "         0.00147669,  0.00229023]])"
      ]
     },
     "execution_count": 44,
     "metadata": {},
     "output_type": "execute_result"
    }
   ],
   "source": [
    "predict_proba = clf.predict_proba(test_X)\n",
    "predict_proba"
   ]
  },
  {
   "cell_type": "code",
   "execution_count": 49,
   "metadata": {
    "collapsed": false
   },
   "outputs": [
    {
     "data": {
      "text/plain": [
       "'a,b = predict_proba.shape\\n\\nfor i in range(a):\\n    for j in range(b):\\n        p = predict_proba[i,j]\\n        if p>=0.5:\\n            predict_proba[i,j] = 1.0\\n        else:\\n            predict_proba[i,j] = 0'"
      ]
     },
     "execution_count": 49,
     "metadata": {},
     "output_type": "execute_result"
    }
   ],
   "source": [
    "'''a,b = predict_proba.shape\n",
    "\n",
    "for i in range(a):\n",
    "    for j in range(b):\n",
    "        p = predict_proba[i,j]\n",
    "        if p>=0.5:\n",
    "            predict_proba[i,j] = 1.0\n",
    "        else:\n",
    "            predict_proba[i,j] = 0'''"
   ]
  },
  {
   "cell_type": "markdown",
   "metadata": {},
   "source": [
    "## Creating submission"
   ]
  },
  {
   "cell_type": "code",
   "execution_count": 46,
   "metadata": {
    "collapsed": false
   },
   "outputs": [],
   "source": [
    "result = pd.DataFrame(predict_proba,index=index,columns=np.sort(df_copy['species'].unique()))"
   ]
  },
  {
   "cell_type": "code",
   "execution_count": 48,
   "metadata": {
    "collapsed": false
   },
   "outputs": [],
   "source": [
    "result.to_csv('submission_1.csv')"
   ]
  },
  {
   "cell_type": "markdown",
   "metadata": {
    "collapsed": true
   },
   "source": [
    "## Playground"
   ]
  },
  {
   "cell_type": "code",
   "execution_count": 16,
   "metadata": {
    "collapsed": true
   },
   "outputs": [],
   "source": [
    "df1 = pd.read_csv('submission_1.csv')\n",
    "df2 = pd.read_csv('submission_6.csv')"
   ]
  },
  {
   "cell_type": "code",
   "execution_count": 25,
   "metadata": {
    "collapsed": true
   },
   "outputs": [],
   "source": [
    "df2 = df2.drop(['Unnamed: 0'],axis=1)"
   ]
  },
  {
   "cell_type": "code",
   "execution_count": 26,
   "metadata": {
    "collapsed": false
   },
   "outputs": [
    {
     "data": {
      "text/plain": [
       "False"
      ]
     },
     "execution_count": 26,
     "metadata": {},
     "output_type": "execute_result"
    }
   ],
   "source": [
    "df1.equals(df2)"
   ]
  },
  {
   "cell_type": "code",
   "execution_count": 27,
   "metadata": {
    "collapsed": false
   },
   "outputs": [],
   "source": [
    "ne = (df1 != df2).any(1)\n",
    "ne_stacked = (df1 != df2).stack()\n",
    "changed = ne_stacked[ne_stacked]\n",
    "changed.index.names = ['id', 'col']"
   ]
  },
  {
   "cell_type": "code",
   "execution_count": 28,
   "metadata": {
    "collapsed": false
   },
   "outputs": [
    {
     "data": {
      "text/html": [
       "<div>\n",
       "<table border=\"1\" class=\"dataframe\">\n",
       "  <thead>\n",
       "    <tr style=\"text-align: right;\">\n",
       "      <th></th>\n",
       "      <th></th>\n",
       "      <th>from</th>\n",
       "      <th>to</th>\n",
       "    </tr>\n",
       "    <tr>\n",
       "      <th>id</th>\n",
       "      <th>col</th>\n",
       "      <th></th>\n",
       "      <th></th>\n",
       "    </tr>\n",
       "  </thead>\n",
       "  <tbody>\n",
       "    <tr>\n",
       "      <th rowspan=\"30\" valign=\"top\">0</th>\n",
       "      <th>Acer_Capillipes</th>\n",
       "      <td>0.001124</td>\n",
       "      <td>0.0</td>\n",
       "    </tr>\n",
       "    <tr>\n",
       "      <th>Acer_Circinatum</th>\n",
       "      <td>0.001405</td>\n",
       "      <td>0.0</td>\n",
       "    </tr>\n",
       "    <tr>\n",
       "      <th>Acer_Mono</th>\n",
       "      <td>0.000978</td>\n",
       "      <td>0.0</td>\n",
       "    </tr>\n",
       "    <tr>\n",
       "      <th>Acer_Opalus</th>\n",
       "      <td>0.001217</td>\n",
       "      <td>0.0</td>\n",
       "    </tr>\n",
       "    <tr>\n",
       "      <th>Acer_Palmatum</th>\n",
       "      <td>0.001058</td>\n",
       "      <td>0.0</td>\n",
       "    </tr>\n",
       "    <tr>\n",
       "      <th>Acer_Pictum</th>\n",
       "      <td>0.001526</td>\n",
       "      <td>0.0</td>\n",
       "    </tr>\n",
       "    <tr>\n",
       "      <th>Acer_Platanoids</th>\n",
       "      <td>0.000919</td>\n",
       "      <td>0.0</td>\n",
       "    </tr>\n",
       "    <tr>\n",
       "      <th>Acer_Rubrum</th>\n",
       "      <td>0.001009</td>\n",
       "      <td>0.0</td>\n",
       "    </tr>\n",
       "    <tr>\n",
       "      <th>Acer_Rufinerve</th>\n",
       "      <td>0.001164</td>\n",
       "      <td>0.0</td>\n",
       "    </tr>\n",
       "    <tr>\n",
       "      <th>Acer_Saccharinum</th>\n",
       "      <td>0.002225</td>\n",
       "      <td>0.0</td>\n",
       "    </tr>\n",
       "    <tr>\n",
       "      <th>Alnus_Cordata</th>\n",
       "      <td>0.002339</td>\n",
       "      <td>0.0</td>\n",
       "    </tr>\n",
       "    <tr>\n",
       "      <th>Alnus_Maximowiczii</th>\n",
       "      <td>0.001612</td>\n",
       "      <td>0.0</td>\n",
       "    </tr>\n",
       "    <tr>\n",
       "      <th>Alnus_Rubra</th>\n",
       "      <td>0.001709</td>\n",
       "      <td>0.0</td>\n",
       "    </tr>\n",
       "    <tr>\n",
       "      <th>Alnus_Sieboldiana</th>\n",
       "      <td>0.001380</td>\n",
       "      <td>0.0</td>\n",
       "    </tr>\n",
       "    <tr>\n",
       "      <th>Alnus_Viridis</th>\n",
       "      <td>0.001500</td>\n",
       "      <td>0.0</td>\n",
       "    </tr>\n",
       "    <tr>\n",
       "      <th>Arundinaria_Simonii</th>\n",
       "      <td>0.001138</td>\n",
       "      <td>0.0</td>\n",
       "    </tr>\n",
       "    <tr>\n",
       "      <th>Betula_Austrosinensis</th>\n",
       "      <td>0.001977</td>\n",
       "      <td>0.0</td>\n",
       "    </tr>\n",
       "    <tr>\n",
       "      <th>Betula_Pendula</th>\n",
       "      <td>0.001160</td>\n",
       "      <td>0.0</td>\n",
       "    </tr>\n",
       "    <tr>\n",
       "      <th>Callicarpa_Bodinieri</th>\n",
       "      <td>0.002139</td>\n",
       "      <td>0.0</td>\n",
       "    </tr>\n",
       "    <tr>\n",
       "      <th>Castanea_Sativa</th>\n",
       "      <td>0.001414</td>\n",
       "      <td>0.0</td>\n",
       "    </tr>\n",
       "    <tr>\n",
       "      <th>Celtis_Koraiensis</th>\n",
       "      <td>0.001863</td>\n",
       "      <td>0.0</td>\n",
       "    </tr>\n",
       "    <tr>\n",
       "      <th>Cercis_Siliquastrum</th>\n",
       "      <td>0.001777</td>\n",
       "      <td>0.0</td>\n",
       "    </tr>\n",
       "    <tr>\n",
       "      <th>Cornus_Chinensis</th>\n",
       "      <td>0.001543</td>\n",
       "      <td>0.0</td>\n",
       "    </tr>\n",
       "    <tr>\n",
       "      <th>Cornus_Controversa</th>\n",
       "      <td>0.001119</td>\n",
       "      <td>0.0</td>\n",
       "    </tr>\n",
       "    <tr>\n",
       "      <th>Cornus_Macrophylla</th>\n",
       "      <td>0.001379</td>\n",
       "      <td>0.0</td>\n",
       "    </tr>\n",
       "    <tr>\n",
       "      <th>Cotinus_Coggygria</th>\n",
       "      <td>0.001042</td>\n",
       "      <td>0.0</td>\n",
       "    </tr>\n",
       "    <tr>\n",
       "      <th>Crataegus_Monogyna</th>\n",
       "      <td>0.003696</td>\n",
       "      <td>0.0</td>\n",
       "    </tr>\n",
       "    <tr>\n",
       "      <th>Cytisus_Battandieri</th>\n",
       "      <td>0.002094</td>\n",
       "      <td>0.0</td>\n",
       "    </tr>\n",
       "    <tr>\n",
       "      <th>Eucalyptus_Glaucescens</th>\n",
       "      <td>0.001713</td>\n",
       "      <td>0.0</td>\n",
       "    </tr>\n",
       "    <tr>\n",
       "      <th>Eucalyptus_Neglecta</th>\n",
       "      <td>0.001470</td>\n",
       "      <td>0.0</td>\n",
       "    </tr>\n",
       "    <tr>\n",
       "      <th>...</th>\n",
       "      <th>...</th>\n",
       "      <td>...</td>\n",
       "      <td>...</td>\n",
       "    </tr>\n",
       "    <tr>\n",
       "      <th rowspan=\"30\" valign=\"top\">593</th>\n",
       "      <th>Quercus_Kewensis</th>\n",
       "      <td>0.003125</td>\n",
       "      <td>0.0</td>\n",
       "    </tr>\n",
       "    <tr>\n",
       "      <th>Quercus_Nigra</th>\n",
       "      <td>0.002216</td>\n",
       "      <td>0.0</td>\n",
       "    </tr>\n",
       "    <tr>\n",
       "      <th>Quercus_Palustris</th>\n",
       "      <td>0.001246</td>\n",
       "      <td>0.0</td>\n",
       "    </tr>\n",
       "    <tr>\n",
       "      <th>Quercus_Phellos</th>\n",
       "      <td>0.001620</td>\n",
       "      <td>0.0</td>\n",
       "    </tr>\n",
       "    <tr>\n",
       "      <th>Quercus_Phillyraeoides</th>\n",
       "      <td>0.003746</td>\n",
       "      <td>0.0</td>\n",
       "    </tr>\n",
       "    <tr>\n",
       "      <th>Quercus_Pontica</th>\n",
       "      <td>0.001398</td>\n",
       "      <td>0.0</td>\n",
       "    </tr>\n",
       "    <tr>\n",
       "      <th>Quercus_Pubescens</th>\n",
       "      <td>0.001636</td>\n",
       "      <td>0.0</td>\n",
       "    </tr>\n",
       "    <tr>\n",
       "      <th>Quercus_Pyrenaica</th>\n",
       "      <td>0.001360</td>\n",
       "      <td>0.0</td>\n",
       "    </tr>\n",
       "    <tr>\n",
       "      <th>Quercus_Rhysophylla</th>\n",
       "      <td>0.001929</td>\n",
       "      <td>0.0</td>\n",
       "    </tr>\n",
       "    <tr>\n",
       "      <th>Quercus_Rubra</th>\n",
       "      <td>0.001149</td>\n",
       "      <td>0.0</td>\n",
       "    </tr>\n",
       "    <tr>\n",
       "      <th>Quercus_Semecarpifolia</th>\n",
       "      <td>0.002333</td>\n",
       "      <td>0.0</td>\n",
       "    </tr>\n",
       "    <tr>\n",
       "      <th>Quercus_Shumardii</th>\n",
       "      <td>0.001433</td>\n",
       "      <td>0.0</td>\n",
       "    </tr>\n",
       "    <tr>\n",
       "      <th>Quercus_Suber</th>\n",
       "      <td>0.001719</td>\n",
       "      <td>0.0</td>\n",
       "    </tr>\n",
       "    <tr>\n",
       "      <th>Quercus_Texana</th>\n",
       "      <td>0.000991</td>\n",
       "      <td>0.0</td>\n",
       "    </tr>\n",
       "    <tr>\n",
       "      <th>Quercus_Trojana</th>\n",
       "      <td>0.001454</td>\n",
       "      <td>0.0</td>\n",
       "    </tr>\n",
       "    <tr>\n",
       "      <th>Quercus_Variabilis</th>\n",
       "      <td>0.001752</td>\n",
       "      <td>0.0</td>\n",
       "    </tr>\n",
       "    <tr>\n",
       "      <th>Quercus_Vulcanica</th>\n",
       "      <td>0.001311</td>\n",
       "      <td>0.0</td>\n",
       "    </tr>\n",
       "    <tr>\n",
       "      <th>Quercus_x_Hispanica</th>\n",
       "      <td>0.001293</td>\n",
       "      <td>0.0</td>\n",
       "    </tr>\n",
       "    <tr>\n",
       "      <th>Quercus_x_Turneri</th>\n",
       "      <td>0.002109</td>\n",
       "      <td>0.0</td>\n",
       "    </tr>\n",
       "    <tr>\n",
       "      <th>Rhododendron_x_Russellianum</th>\n",
       "      <td>0.001462</td>\n",
       "      <td>0.0</td>\n",
       "    </tr>\n",
       "    <tr>\n",
       "      <th>Salix_Fragilis</th>\n",
       "      <td>0.001291</td>\n",
       "      <td>0.0</td>\n",
       "    </tr>\n",
       "    <tr>\n",
       "      <th>Salix_Intergra</th>\n",
       "      <td>0.001062</td>\n",
       "      <td>0.0</td>\n",
       "    </tr>\n",
       "    <tr>\n",
       "      <th>Sorbus_Aria</th>\n",
       "      <td>0.001195</td>\n",
       "      <td>0.0</td>\n",
       "    </tr>\n",
       "    <tr>\n",
       "      <th>Tilia_Oliveri</th>\n",
       "      <td>0.001636</td>\n",
       "      <td>0.0</td>\n",
       "    </tr>\n",
       "    <tr>\n",
       "      <th>Tilia_Platyphyllos</th>\n",
       "      <td>0.001065</td>\n",
       "      <td>0.0</td>\n",
       "    </tr>\n",
       "    <tr>\n",
       "      <th>Tilia_Tomentosa</th>\n",
       "      <td>0.001411</td>\n",
       "      <td>0.0</td>\n",
       "    </tr>\n",
       "    <tr>\n",
       "      <th>Ulmus_Bergmanniana</th>\n",
       "      <td>0.000946</td>\n",
       "      <td>0.0</td>\n",
       "    </tr>\n",
       "    <tr>\n",
       "      <th>Viburnum_Tinus</th>\n",
       "      <td>0.001991</td>\n",
       "      <td>0.0</td>\n",
       "    </tr>\n",
       "    <tr>\n",
       "      <th>Viburnum_x_Rhytidophylloides</th>\n",
       "      <td>0.001349</td>\n",
       "      <td>0.0</td>\n",
       "    </tr>\n",
       "    <tr>\n",
       "      <th>Zelkova_Serrata</th>\n",
       "      <td>0.002320</td>\n",
       "      <td>0.0</td>\n",
       "    </tr>\n",
       "  </tbody>\n",
       "</table>\n",
       "<p>58806 rows × 2 columns</p>\n",
       "</div>"
      ],
      "text/plain": [
       "                                      from   to\n",
       "id  col                                        \n",
       "0   Acer_Capillipes               0.001124  0.0\n",
       "    Acer_Circinatum               0.001405  0.0\n",
       "    Acer_Mono                     0.000978  0.0\n",
       "    Acer_Opalus                   0.001217  0.0\n",
       "    Acer_Palmatum                 0.001058  0.0\n",
       "    Acer_Pictum                   0.001526  0.0\n",
       "    Acer_Platanoids               0.000919  0.0\n",
       "    Acer_Rubrum                   0.001009  0.0\n",
       "    Acer_Rufinerve                0.001164  0.0\n",
       "    Acer_Saccharinum              0.002225  0.0\n",
       "    Alnus_Cordata                 0.002339  0.0\n",
       "    Alnus_Maximowiczii            0.001612  0.0\n",
       "    Alnus_Rubra                   0.001709  0.0\n",
       "    Alnus_Sieboldiana             0.001380  0.0\n",
       "    Alnus_Viridis                 0.001500  0.0\n",
       "    Arundinaria_Simonii           0.001138  0.0\n",
       "    Betula_Austrosinensis         0.001977  0.0\n",
       "    Betula_Pendula                0.001160  0.0\n",
       "    Callicarpa_Bodinieri          0.002139  0.0\n",
       "    Castanea_Sativa               0.001414  0.0\n",
       "    Celtis_Koraiensis             0.001863  0.0\n",
       "    Cercis_Siliquastrum           0.001777  0.0\n",
       "    Cornus_Chinensis              0.001543  0.0\n",
       "    Cornus_Controversa            0.001119  0.0\n",
       "    Cornus_Macrophylla            0.001379  0.0\n",
       "    Cotinus_Coggygria             0.001042  0.0\n",
       "    Crataegus_Monogyna            0.003696  0.0\n",
       "    Cytisus_Battandieri           0.002094  0.0\n",
       "    Eucalyptus_Glaucescens        0.001713  0.0\n",
       "    Eucalyptus_Neglecta           0.001470  0.0\n",
       "...                                    ...  ...\n",
       "593 Quercus_Kewensis              0.003125  0.0\n",
       "    Quercus_Nigra                 0.002216  0.0\n",
       "    Quercus_Palustris             0.001246  0.0\n",
       "    Quercus_Phellos               0.001620  0.0\n",
       "    Quercus_Phillyraeoides        0.003746  0.0\n",
       "    Quercus_Pontica               0.001398  0.0\n",
       "    Quercus_Pubescens             0.001636  0.0\n",
       "    Quercus_Pyrenaica             0.001360  0.0\n",
       "    Quercus_Rhysophylla           0.001929  0.0\n",
       "    Quercus_Rubra                 0.001149  0.0\n",
       "    Quercus_Semecarpifolia        0.002333  0.0\n",
       "    Quercus_Shumardii             0.001433  0.0\n",
       "    Quercus_Suber                 0.001719  0.0\n",
       "    Quercus_Texana                0.000991  0.0\n",
       "    Quercus_Trojana               0.001454  0.0\n",
       "    Quercus_Variabilis            0.001752  0.0\n",
       "    Quercus_Vulcanica             0.001311  0.0\n",
       "    Quercus_x_Hispanica           0.001293  0.0\n",
       "    Quercus_x_Turneri             0.002109  0.0\n",
       "    Rhododendron_x_Russellianum   0.001462  0.0\n",
       "    Salix_Fragilis                0.001291  0.0\n",
       "    Salix_Intergra                0.001062  0.0\n",
       "    Sorbus_Aria                   0.001195  0.0\n",
       "    Tilia_Oliveri                 0.001636  0.0\n",
       "    Tilia_Platyphyllos            0.001065  0.0\n",
       "    Tilia_Tomentosa               0.001411  0.0\n",
       "    Ulmus_Bergmanniana            0.000946  0.0\n",
       "    Viburnum_Tinus                0.001991  0.0\n",
       "    Viburnum_x_Rhytidophylloides  0.001349  0.0\n",
       "    Zelkova_Serrata               0.002320  0.0\n",
       "\n",
       "[58806 rows x 2 columns]"
      ]
     },
     "execution_count": 28,
     "metadata": {},
     "output_type": "execute_result"
    }
   ],
   "source": [
    "difference_locations = np.where(df1 != df2)\n",
    "changed_from = df1.values[difference_locations]\n",
    "changed_to = df2.values[difference_locations]\n",
    "pd.DataFrame({'from': changed_from, 'to': changed_to}, index=changed.index)"
   ]
  },
  {
   "cell_type": "code",
   "execution_count": null,
   "metadata": {
    "collapsed": true
   },
   "outputs": [],
   "source": [
    "df2.to_csv('submission_6.csv')"
   ]
  },
  {
   "cell_type": "code",
   "execution_count": null,
   "metadata": {
    "collapsed": false
   },
   "outputs": [],
   "source": [
    "df2"
   ]
  },
  {
   "cell_type": "code",
   "execution_count": null,
   "metadata": {
    "collapsed": true
   },
   "outputs": [],
   "source": []
  }
 ],
 "metadata": {
  "kernelspec": {
   "display_name": "Python 3",
   "language": "python",
   "name": "python3"
  },
  "language_info": {
   "codemirror_mode": {
    "name": "ipython",
    "version": 3
   },
   "file_extension": ".py",
   "mimetype": "text/x-python",
   "name": "python",
   "nbconvert_exporter": "python",
   "pygments_lexer": "ipython3",
   "version": "3.5.2"
  }
 },
 "nbformat": 4,
 "nbformat_minor": 1
}
